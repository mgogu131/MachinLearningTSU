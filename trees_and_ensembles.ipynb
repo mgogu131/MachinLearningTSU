{
 "cells": [
  {
   "cell_type": "markdown",
   "metadata": {
    "slideshow": {
     "slide_type": "slide"
    }
   },
   \
    "import numpy as np\n",
    "import pandas as pd\n",
    "import matplotlib.pyplot as plt\n",
    "import seaborn as sns\n",
    "from sklearn.datasets import load_boston\n",
    "\n",
    "%matplotlib inline"
   ]
  },
  {
   "cell_type": "markdown",
   "metadata": {},
   "source": [
    "ამ კლასის პირველი ნაწილისთვის ჩვენ ვიყენებთ სათამაშოების მონაცემთა ბაზას, რომელიც მოყვება Scikit-Learn ბიბლიოთეკას. მონაცემთა ბაზა არის ბოსტონში სახლის ფასების პროგნოზირება 13 უწყვეტი მახასიათებლის გამოყენებით: https://scikit-learn.org/stable/datasets/index.html\n",
    "\n",
    "ეს მონაცემების მახასიათებლებია:\n",
    "\n",
    "CRIM- ერთ სულ მოსახლეზე დანაშაულის მაჩვენებელი ქალაქის მიხედვით\n",
    "\n",
    "ZN - საცხოვრებელი მიწის პროპორციული ზონით განთავსებული 25,000 კვ.მ-ზე მეტი ფართობისთვის.\n",
    "\n",
    "INDUS - არასამეწარმეო ბიზნესის ჰექტრის პროპორცია თითო ქალაქში\n",
    "\n",
    "CHAS - Charles River dummy ცვლადი (= 1, თუ ესაზღვრება მდინარე; 0 სხვაგვარად)\n",
    "\n",
    "NOX - აზოტის ოქსიდების კონცენტრაცია (ნაწილები 10 მილიონზე)\n",
    "\n",
    "RM - ოთახების საშუალო რაოდენობა საცხოვრებელში\n",
    "\n",
    "AGE - მესაკუთრეთა მიერ დაკავებული ერთეულების პროპორცია, რომელიც აშენდა 1940 წლამდე\n",
    "\n",
    "DIS - შეწონილი მანძილი ბოსტონის დასაქმების ხუთი ცენტრისთვის\n",
    "\n",
    "RAD - რადიალური მაგისტრალებზე წვდომის ინდექსი\n",
    "\n",
    "TAX- სრული ღირებულების ქონების გადასახადი 10,000 აშშ დოლარზე\n",
    "\n",
    "PTRATIO - მოსწავლე-მასწავლებელთა კოეფიციენტი ქალაქის მიხედვით\n",
    "\n",
    "B - 1000 (Bk - 0.63) ^ 2 სადაც Bk არის მოსახლეობის შავკანიანთა რაოდენობა\n",
    "\n",
    "LSTAT - მოსახლეობის დაბალი სტატუსი\n",
    "\n",
    "TARGET (ღირებულება, რომლის შეფასებაც უნდა მოვახდინოთ) - მესაკუთრის მიერ უკვე დაკავებული სახლების საშუალო ღირებულება 1000 $\n"
   ]
  },
  {
   "cell_type": "markdown",
   "metadata": {},
   "source": [
    "ჩავტივრთოთ მონაცემები და ვნახოთ მისი შიგთავსი, გავაკეთოთ მონაცემების დამუშავება:"
   ]
  },
  {
   "cell_type": "code",
   "execution_count": 4,
   "metadata": {},
   "outputs": [
    {
     "data": {
      "text/plain": [
       "(506, 14)"
      ]
     },
     "execution_count": 4,
     "metadata": {},
     "output_type": "execute_result"
    }
   ],
   "source": [
    "# მონაცეების ჩატვირთვა\n",
    "X, y = load_boston(return_X_y=True)\n",
    "\n",
    "# ველების სახელები\n",
    "cols = ['CRIM', 'ZN', 'INDUS', 'CHAS', 'NOX', 'RM', 'AGE', 'DIS', 'RAD', 'TAX', 'PTRATIO', 'B', 'LSTAT']\n",
    "\n",
    "# ახალი მონაცემის ბაზის გაკეთებამ უკეთესი ვიზუალიზაციისთვის\n",
    "df = pd.DataFrame(np.c_[X, y], columns=cols + ['TARGET']); df.shape\n"
   ]
  },
  {
   "cell_type": "code",
   "execution_count": 5,
   "metadata": {},
   "outputs": [
    {
     "data": {
      "text/html": [
       "<div>\n",
       "<style scoped>\n",
       "    .dataframe tbody tr th:only-of-type {\n",
       "        vertical-align: middle;\n",
       "    }\n",
       "\n",
       "    .dataframe tbody tr th {\n",
       "        vertical-align: top;\n",
       "    }\n",
       "\n",
       "    .dataframe thead th {\n",
       "        text-align: right;\n",
       "    }\n",
       "</style>\n",
       "<table border=\"1\" class=\"dataframe\">\n",
       "  <thead>\n",
       "    <tr style=\"text-align: right;\">\n",
       "      <th></th>\n",
       "      <th>CRIM</th>\n",
       "      <th>ZN</th>\n",
       "      <th>INDUS</th>\n",
       "      <th>CHAS</th>\n",
       "      <th>NOX</th>\n",
       "      <th>RM</th>\n",
       "      <th>AGE</th>\n",
       "      <th>DIS</th>\n",
       "      <th>RAD</th>\n",
       "      <th>TAX</th>\n",
       "      <th>PTRATIO</th>\n",
       "      <th>B</th>\n",
       "      <th>LSTAT</th>\n",
       "      <th>TARGET</th>\n",
       "    </tr>\n",
       "  </thead>\n",
       "  <tbody>\n",
       "    <tr>\n",
       "      <td>0</td>\n",
       "      <td>0.00632</td>\n",
       "      <td>18.0</td>\n",
       "      <td>2.31</td>\n",
       "      <td>0.0</td>\n",
       "      <td>0.538</td>\n",
       "      <td>6.575</td>\n",
       "      <td>65.2</td>\n",
       "      <td>4.0900</td>\n",
       "      <td>1.0</td>\n",
       "      <td>296.0</td>\n",
       "      <td>15.3</td>\n",
       "      <td>396.90</td>\n",
       "      <td>4.98</td>\n",
       "      <td>24.0</td>\n",
       "    </tr>\n",
       "    <tr>\n",
       "      <td>1</td>\n",
       "      <td>0.02731</td>\n",
       "      <td>0.0</td>\n",
       "      <td>7.07</td>\n",
       "      <td>0.0</td>\n",
       "      <td>0.469</td>\n",
       "      <td>6.421</td>\n",
       "      <td>78.9</td>\n",
       "      <td>4.9671</td>\n",
       "      <td>2.0</td>\n",
       "      <td>242.0</td>\n",
       "      <td>17.8</td>\n",
       "      <td>396.90</td>\n",
       "      <td>9.14</td>\n",
       "      <td>21.6</td>\n",
       "    </tr>\n",
       "    <tr>\n",
       "      <td>2</td>\n",
       "      <td>0.02729</td>\n",
       "      <td>0.0</td>\n",
       "      <td>7.07</td>\n",
       "      <td>0.0</td>\n",
       "      <td>0.469</td>\n",
       "      <td>7.185</td>\n",
       "      <td>61.1</td>\n",
       "      <td>4.9671</td>\n",
       "      <td>2.0</td>\n",
       "      <td>242.0</td>\n",
       "      <td>17.8</td>\n",
       "      <td>392.83</td>\n",
       "      <td>4.03</td>\n",
       "      <td>34.7</td>\n",
       "    </tr>\n",
       "    <tr>\n",
       "      <td>3</td>\n",
       "      <td>0.03237</td>\n",
       "      <td>0.0</td>\n",
       "      <td>2.18</td>\n",
       "      <td>0.0</td>\n",
       "      <td>0.458</td>\n",
       "      <td>6.998</td>\n",
       "      <td>45.8</td>\n",
       "      <td>6.0622</td>\n",
       "      <td>3.0</td>\n",
       "      <td>222.0</td>\n",
       "      <td>18.7</td>\n",
       "      <td>394.63</td>\n",
       "      <td>2.94</td>\n",
       "      <td>33.4</td>\n",
       "    </tr>\n",
       "    <tr>\n",
       "      <td>4</td>\n",
       "      <td>0.06905</td>\n",
       "      <td>0.0</td>\n",
       "      <td>2.18</td>\n",
       "      <td>0.0</td>\n",
       "      <td>0.458</td>\n",
       "      <td>7.147</td>\n",
       "      <td>54.2</td>\n",
       "      <td>6.0622</td>\n",
       "      <td>3.0</td>\n",
       "      <td>222.0</td>\n",
       "      <td>18.7</td>\n",
       "      <td>396.90</td>\n",
       "      <td>5.33</td>\n",
       "      <td>36.2</td>\n",
       "    </tr>\n",
       "  </tbody>\n",
       "</table>\n",
       "</div>"
      ],
      "text/plain": [
       "      CRIM    ZN  INDUS  CHAS    NOX     RM   AGE     DIS  RAD    TAX  \\\n",
       "0  0.00632  18.0   2.31   0.0  0.538  6.575  65.2  4.0900  1.0  296.0   \n",
       "1  0.02731   0.0   7.07   0.0  0.469  6.421  78.9  4.9671  2.0  242.0   \n",
       "2  0.02729   0.0   7.07   0.0  0.469  7.185  61.1  4.9671  2.0  242.0   \n",
       "3  0.03237   0.0   2.18   0.0  0.458  6.998  45.8  6.0622  3.0  222.0   \n",
       "4  0.06905   0.0   2.18   0.0  0.458  7.147  54.2  6.0622  3.0  222.0   \n",
       "\n",
       "   PTRATIO       B  LSTAT  TARGET  \n",
       "0     15.3  396.90   4.98    24.0  \n",
       "1     17.8  396.90   9.14    21.6  \n",
       "2     17.8  392.83   4.03    34.7  \n",
       "3     18.7  394.63   2.94    33.4  \n",
       "4     18.7  396.90   5.33    36.2  "
      ]
     },
     "execution_count": 5,
     "metadata": {},
     "output_type": "execute_result"
    }
   ],
   "source": [
    "df.head()"
   ]
  },
  {
   "cell_type": "markdown",
   "metadata": {},
   "source": [
    " visualize distribution \n",
    "მოდით ვიზუალიზაცია თითოეული მახასიათებლის განაწილება boxplot– ის გამოყენებით\n",
    "\n",
    "ჩვენ ვხედავთ, რომ მახასიათებლების მასშტაბი ძალიან განსხვავდება, მაგრამ, საბედნიეროდ, ხეზე დაფუძნებულ მოდელებს <b> არ საჭიროებს </b> მახასიათებლის ხელახალი სკალირებას."
   ]
  },
  {
   "cell_type": "code",
   "execution_count": 6,
   "metadata": {},
   "outputs": [
    {
     "data": {
      "image/png": "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\n",
      "text/plain": [
       "<Figure size 1080x360 with 1 Axes>"
      ]
     },
     "metadata": {
      "needs_background": "light"
     },
     "output_type": "display_data"
    }
   ],
   "source": [
    "df.plot(kind='box', rot=90, figsize=(15, 5))\n",
    "plt.grid()"
   ]
  },
  {
   "cell_type": "markdown",
   "metadata": {},
   "source": [
    "ახლა ვნახოთ კორელაცია \n",
    "ჩვენ შეგვიძლია შევამჩნიოთ, რომ ზოგიერთი მახასიათებელი (მაგ. LSTAT, RM) არის <b> მაღალი კორელაცია </ b> მიზნთან, რაც ჩვეულებრივ ნიშნავს, რომ ისინი <b> კარგი ველები არიან </ b> მიზნის შეფასებისთვის.\n"
   ]
  },
  {
   "cell_type": "code",
   "execution_count": 8,
   "metadata": {},
   "outputs": [
    {
     "data": {
      "text/plain": [
       "<seaborn.matrix.ClusterGrid at 0x7fe66bb8c750>"
      ]
     },
     "execution_count": 8,
     "metadata": {},
     "output_type": "execute_result"
    },
    {
     "data": {
      "image/png": "iVBORw0KGgoAAAANSUhEUgAAA2QAAANOCAYAAAB+38+YAAAABHNCSVQICAgIfAhkiAAAAAlwSFlzAAALEgAACxIB0t1+/AAAADh0RVh0U29mdHdhcmUAbWF0cGxvdGxpYiB2ZXJzaW9uMy4xLjEsIGh0dHA6Ly9tYXRwbG90bGliLm9yZy8QZhcZAAAgAElEQVR4nOzdeZxmZ1kn/N9Fd5IOEBZZAiRIQMIgQjDKNoKvLMLAiKwCIbwKDNjqiMOiGQI62KJI3leQAUW0VV6JjoKDEoKAKKvigKSRNcgSWUMISAgECVm6+3r/qIoWZS1PPfVU3VXV3+/n83w459znXHVV6HTlV/d9zqnuDgAAAJvvWqMbAAAAOFIJZAAAAIMIZAAAAIMIZAAAAIMIZAAAAIPsXmnwU5dftKGPYLz1tW9RG1kfAABgK1sxkB3uw5vVBwAAwBFnxUB21aGrN6uPZVXVA5O8OMmuJL/X3WctGr9VkpcnuUmSryT5v7v7wk1vFAAAYI1WDmSHxwayqtqV5KVJ7p/kwiTnVdW53f2RBae9IMnZ3f2Kqrpvkucn+dHN7xYAAGBtVgxkBw8f2qw+lnO3JBd09yeTpKpemeShSRYGsjskefr89tuSnLOpHQIAAExpS8+QJTkhyecW7F+Y5O6LzvlAkkdmblnjw5McV1U36u5LNqdFAACA6QwNZFW1N8neBYf2d/f+hacscdniJz/+XJLfrKonJPmbJJ9PcnCWfcJ6VNWZSfaM7gOAbe+KxffSA9vfioHsyg1+qMd8+Nq/wikXJrnlgv0Tk1y0qMZFSR6RJFV13SSP7O6vzbhVWI893b1vdBMAbG9VtW90D8DsrRzIxi9ZPC/JyVV168zNfJ2W5PSFJ1TVjZN8pbsPJ3lW5p64CAAAsOWt/FCPwe8h6+6DVfWUJG/K3GPvX97d51fVc5Mc6O5zk9w7yfOrqjO3ZPGnhzUMAACwBisGsisOj78Vq7vfkOQNi449Z8H2q5O8erP7AgAAWK8tH8gAAAB2qlUC2fD3kAEAAOxYKwayqw8vfsI8AAAAs7JiIPumGTIAAIANs0ogG/uURQAAgJ1slUBmySIAAMBGWTGQXdUCGQAAwEZZ+SmLW+AWsqp6YJIXZ+7F0L/X3Wctcc6jk+xL0kk+0N2nb2qTAAAAU1glkI2dIauqXUlemuT+SS5Mcl5VndvdH1lwzslJnpXknt19aVXddEy3AAAAa7NiILvycG1WH8u5W5ILuvuTSVJVr0zy0CQfWXDOjyd5aXdfmiTd/aVN7xIAAGAKKwaygxv8kMWq2ptk74JD+7t7/4L9E5J8bsH+hUnuvqjM7eZr/V3mljXu6+6/3IB2AQAAZmrlF0Mf3NgvPh++9q9wylJTdIvXUe5OcnKSeyc5McnfVtUdu/urM2kSAABgg6w8Qzb+oR4XJrnlgv0Tk1y0xDnv7u6rk3yqqj6WuYB23ua0CAAAMJ2tHsjOS3JyVd06yeeTnJZk8RMUz0ny2CR/UFU3ztwSxk9uapcAAABTWDGQHRocyLr7YFU9JcmbMnd/2Mu7+/yqem6SA9197vzYA6rqI0kOJTmjuy8Z1zUAAMBkVgxkh8fPkKW735DkDYuOPWfBdid5xvwHAABg29jSM2QAAAA72ZafIQMAANipBDIAAIBBBDIAAIBBVgxkfWjxO5gBAACYFTNkAAAAg6w8Q3bQDBkAAMBGudaKo4c3+DOBqnpgVX2sqi6oqjOXGP/JqvpQVb2/qt5ZVXeYrDIAAMBYq9xDtlltLK2qdiV5aZL7J7kwyXlVdW53f2TBaX/c3b89f/5Dkvx6kgduerMAAABrtGIgy/gli3dLckF3fzJJquqVSR6a5F8DWXdftuD86yQZ3jQAAMAkhj5lsar2Jtm74ND+7t6/YP+EJJ9bsH9hkrsvUeenkzwjydFJ7rsBrQIAAMzcyjNkE97nNa358LV/hVNqqcuWqPPSJC+tqtOT/EKSx8+mQwAAgI2z1ZcsXpjklgv2T0xy0QrnvzLJyza0IwAAgBlZOZCNfzH0eUlOrqpbJ/l8ktOSnL7whKo6ubs/Mb/7Q0k+EQAAgG1glUC2SV0so7sPVtVTkrwpya4kL+/u86vquUkOdPe5SZ5SVT+Y5Ookl8ZyRQAAYJvY6ksW091vSPKGRcees2D7qZveFAAAwAys8lCP8YEMAABgp9rSSxYBAAB2si2/ZBEAAGCnWjGQ1finLAIAAOxY7iEDAAAYZJUli5vUBQAAwBFoq78YGgAAYMe61kqDdag39DOJqnpgVX2sqi6oqjOXGD+mql41P/73VXXSVP8kAAAANtmKgSyHNviziqraleSlSR6U5A5JHltVd1h02pOSXNrdt03yoiT/z+qVAQAAxlslkPXGflZ3tyQXdPcnu/uqJK9M8tBF5zw0ySvmt1+d5H5VVWv7xwAAALD5Vn7s/Qa/h6yq9ibZu+DQ/u7ev2D/hCSfW7B/YZK7Lyrzr+d098Gq+lqSGyX58uw7BgAAmJ2h7yGbD1/7VzhlqZmuxU1Ncg4AsIPN32e+Z3QfG+ykqto3uolNcEV3nzW6Cdgsq7yHbJO6WN6FSW65YP/EJBctc86FVbU7yfWTfGVz2gMAtog93b1vdBOs3xESOuFfDV2yOIHzkpxcVbdO8vkkpyU5fdE55yZ5fJJ3JfmRJG/t7uGNAwAArGaVQDZ2imz+nrCnJHlTkl1JXt7d51fVc5Mc6O5zk/x+kj+sqgsyNzN22riOAQAAJrfKPWTj1yx29xuSvGHRsecs2L4iyaM2uy8AAID1WjGQXWvwDBkAAMBOtvIM2WG3YgEAAGyUVe4hO7RZfQAAABxxVrmH7OBm9QEAAHDEWfk9ZAIZAADAhlllhsySRQAAgI2yygzZ1ZvUxtpV1bcleVWSk5J8Osmju/vSRefcKsmfZ+4dZkcl+Y3u/u3N7RQAAGBp11px9PDVG/tZnzOTvKW7T07ylvn9xb6Q5Pu6+7uT3D3JmVV1i/V+YQAAgFlYcYast/AMWZKHJrn3/PYrkrw9yTMXntDdVy3YPSarBVAAAIBNtPKSxcMb+1CPqtqbZO+CQ/u7e/+Elx/f3V9Iku7+QlXddJmvccskr09y2yRndPdF6+kZAABgVobOkM2Hr2UDWFW9OcnNlhj6+TV8jc8lOWV+qeI5VfXq7v7impsFAACYsZUD2eGrVhrecN39g8uNVdUXq+rm87NjN0/ypVVqXVRV5yf5/iSvnnGrAAAAa7biPVV96OoN/azTuUkeP7/9+CSvXXxCVZ1YVcfOb98wyT2TfGy9XxgAAGAWVpwhO7z+JyFupLOS/GlVPSnJZ5M8Kkmq6i5JfrK7n5zkO5O8sKo6SSV5QXd/aFTDAAAACw19qMd6dPclSe63xPEDSZ48v/3XSU7Z5NYAAAAmsp1nyAAAALa1lQPZ1n4PGQAAR7iqOjPJntF9zMhJST49uIdZuaK7zxrdxHZghgwAgO1sT3fvG93ELFTVvp30vYzuYbtY+bH3vXXvIQMAANjuLFkEAAAYxJJFNt0OW+s9iZOOoGl768UBANZAIGOEHbPWm291BAVPgA1zBP7icrG1/iLz3jvo588Voxtg860SyA5tVh9rVlXfluRV+ben0Ty6uy9d4rxvT/J7SW6ZpJP85+7+9KY1CgCwNn5xuQY76UEYHJmutdLgocNXb+hnnc5M8pbuPjnJW+b3l3J2kl/r7u9McrckX1rvFwYAAJiFVWbItvRTFh+a5N7z269I8vYkz1x4QlXdIcnu7v7rJOnuf9nE/gAAAFa0YiCbwSzWiqpqb5K9Cw7t7+79E15+fHd/IUm6+wtVddMlzrldkq9W1Z8nuXWSNyc5s7u37lpMAADgiDH0HrL58LVsAKuqNye52RJDPz/hl9id5PuTnJrks5m75+wJSX5/TY0CAABsgKEzZKvp7h9cbqyqvlhVN5+fHbt5lr437MIk7+vuT85fc06Se0QgAwAAtoBVAtmWvofs3CSPT3LW/P++dolzzktyw6q6SXf/c5L7JjmweS0CAAAsbzsHsrOS/GlVPSlzyxEflSRVdZckP9ndT+7uQ1X1c0neUlWV5L1JfndYx+w43hXz7xxJL8GelJdlAwDLWjmQHdq6L4bu7kuS3G+J4weSPHnB/l8nOWUTW+PI4l0xrEhABQBWsm1fDA0AALDdbecliwAAANuaQAZsmiP0nrv13ld3r6zyd/UW8+n5z3biPj8Ahlnxh/zXrvpmbVYjwBHBPXdrVFX7/DPbWO7zA440m/QL0s160Ne2/6XadvqtKwAAsH475hekO+GXatca3QAAAMCRSiADAAAYxJJFAAA2hHuVYHUCGQAAG8W9SrAKSxYBAAAGEcgAAAAGsWQRgE2xhV8Mvln3n6yV+1UAjgACGQCbZcfcS7IZtmhIBGDGLFkEAAAYxAwZAKzBJi693IyllJZFAgwmkAHA2uyYpZeWRQKMZ8kiAADAIAIZAADAIAIZAADAIAIZAADAIB7qASTZtCfHbdYLeD05DgDYFgQy4BqeHAcAsMksWQQAABhEIAMAABhEIAMAABhEIAMAABhEIAMAABhEIAMAABhEIAMAABikunt0DwAAAEckM2QAAACDCGQAAABTqqo7VtXZVXWgqs6rqldU1SkTX2/JIgt96vKLdsQfiEef/c7RLczMsSfuHt3CzOykv26uuuzw6BZm5vBXDo1uYSZ23Wjn/Lty6DNXjm5hZo498LXRLczMrm9eMbqFmTl48YdHtzAzX//KJ0a3MDPXOe7E0S3MzDE3/s7RLczM297+nJ9IsnfBof3dvT9JquqhSV6Q5PlJDiSpJN+b5FlJfq67X7ta/Z3z0wsAAGDG5sPX/mWGn5vk/t396QXHPlBVb03y2vnPiixZBAAAmM5Ri8JYkmT+2FGTFBDIAAAApnN1VX374oNVdaskBycpYMkiAADAdH4xyZur6leTvDdJJ7lrkjOTPHOSAgIZAADAFLr7nKr6VJKfTfIzmXuox/lJHt3dH5ikhkAGAAAwpfng9WPTXi+QAQAATKGqXpe5ZYpL6u6HrFZDIAMAAJjOC9ZbQCADAACYzhO7+wnrKeCx9wAAANM5Zb0FzJABAABM59pVdWrmnq7473T3P6xWQCADAACYzglJXpilA1knue9qBQQyAACA6VzQ3auGrpW4hwwAAGAQgQwAAGA6z1zqYFXdsqrOmKSAQAYAADCF7v6ra7ar6sZV9VNV9TdJ3p7k+ElquIcMAABgClV1XJKHJzk9ye2SvCbJbbr7xElrCGQAAADT+VKS9yT5hSTv7O6uqoevpYAliwAAANN5dpI9SV6W5FlV9R1rLSCQAQAATKG7X9Tdd0/ykMy9i+ycJLeoqmdW1e0mqSGQAQAArEN3f7K7n9fdd0py1yQ3SPLGSa51DxkAAMCMdPeHqup/JDl/kvPNkAEAAEyhqq5XVc+qqt+sqgfUnJ9JckGSR01SwwzZBquqMzN3o9+W1d37RvcAAADb0B8muTTJu5I8OckZSY5O8rDufv8kBQSyjbdH4AEAgB3pNvP3jaWqfi/Jl5N8e3d/fdICAhnf4tFnv3N0CzPxpz92r9EtzMzP/+O7R7cwM5dfObqD2blkB634vvLQ6A5mo44a3cHsHHW7Y0a3MDMHP3r06BZm5vAn/m50CzNz9E3uMLqFmbnuwZ3zw+Wom995dAszc9XFHxrdwma5+pqN7j5UVZ9aSxhLBDIAAIBp3bmqLpvfriTHzu9Xku7u661WQCADAACYzp7uvnr105a3c9bcAAAAbK6/X28BgQwAAGA6td4CliwCAABM5yZV9YzlBrv711crIJABAABMZ1eS62YdM2UCGQAAwHS+0N3PXU8B95ABAABMxz1kAAAAg/xQVT0tyW2TfCjJ73f3wbUUMEMGAAAwnRcluUvmwtiDkrxwrQXMkAEAAEznDt19pySpqt9P8p61FjBDBgAAMJ2rr9lY61LFa5ghAwAAmM6dq+qy+e1Kcuz8fiXp7r7eagUEMgAAgCl096711rBkEQAAYBCBDAAAYBCBDAAAYBCBDAAAYBCBDAAAYBCBDAAAYBCBDAAAYBCBDAAAYBCBDAAAYBCBDAAAYBCBDAAAYJDdoxsAAADYjqrqESuNd/efr1ZDIAMAAFhGVe1NsnfBof3dvX9++9VJ3j//SZJacF4nEcgAAACmNR++9i8z/Mgkj0lySpLXJvmT7r5gLfXdQwYAADCF7n5Nd5+W5AeS/FOSF1bVO6vqByatIZABAACszxVJvpbksiTXSbJn0gstWQQAAJhCVd0nyWOT3C3Jm5O8uLsPrKWGQAYAADCdtyT5YJJ3JjkmyY9V1Y9dM9jd/221AgIZAADAdP5L5p6mODWBDAAAYArd/QfrrSGQAQAATKGqXpcVZsi6+yGr1RDIAAAApvOC9RYQyAAAAKbQ3e9Ybqyq7jlJDYEMAABgClW1K8mjk5yQ5C+7+8NV9eAkz05ybJJTV6shkAEAAEzn95PcMsl7krykqj6T5D8mObO7z5mkgEAGAAAwnbskOaW7D1fVniRfTnLb7r540gLX2rDWAAAAdraruvtwknT3FUk+vpYwlpghAwAAmNbtq+qD89uV5DsW7Ke7T1mtgEAGAAAwnTsnOT7J5xYdv1WSiyYpYMkiAADAdF6U5LLu/szCT5LL58dWJZABAABM56Tu/uDig919IMlJkxQQyAAAAKazZ4WxYycpIJABAABM57yq+vHFB6vqSUneO0kBD/XYAqrqzKycrjdUd+8b9bUBAGAbe1qS11TV4/JvAewuSY5O8vBJCghkW8MeoQgAALaX7v5iku+rqvskueP84dd391snrSGQAQAArEN3vy3J26a51j1kAAAAgwhkAAAAg1iyyLc49sSd8Ufi5//x3aNbmJnnfec9RrcwMxdf/uXRLczMsw9cMLqF2bnhzvjd3E1vMrqD2dm1a3QHs/PZPTvjz1eSHLzya6NbmJmja+f8/5Id9L30Vz8/uoWZufzrnxvdwraxc/4EAwAAbDMCGQAAwCBTrU8b/d6sbeak0Q0AAABb07Q3DHlv1oSqat/oHgAAgK3JkkUAAIBBBDIAAIBBBDIAAIBBBDIAAIBBBDIAAIBBBDIAAIBBBDIAAIBBBDIAAIBBBDIAAIBBBDIAAIBBBDIAAIBBBDIAAIBBBDIAAIBBBDIAAIBBBDIAAIBBBDIAAIBBBDIAAIBBBDIAAIBBBDIAAIBBBDIAAIBBBDIAAIBBBDIAAIBBBDIAAIBlVNXeqjqw4LN30fh9qurPq+r8+c+rq+rek9bfPfOOAQAAdoju3p9k/1JjVfVDSX4zyXOT/FKSSvI9SV5eVU/p7jesVl8gAwAAmM4ZSR7W3R9YcOz9VXUgyW8kWTWQWbIIAAAwnZstCmNJku7+YJLjJykgkAEAAEznG1OO/StLFgEAAKbzHVV17hLHK8ltJikgkAEAAEznoSuMvWCSAgIZAADAFLr7HUsdr6pbJjktyZLjC7mHDAAAYJ2q6sZV9VNV9TdJ3p4JH+phhgwAAGAKVXVckocnOT3J7ZK8JsltuvvESWsIZAAAANP5UpL3JPmFJO/s7q6qh6+lgCWLAAAA03l2kj1JXpbkWVX1HWstIJABAABMobtf1N13T/KQzD3q/pwkt6iqZ1bV7SapIZABAACsQ3d/sruf1913SnLXJDdI8sZJrnUPGQAAwIx094eq6n8kOX+S882QAQAATKGqrldVz6qq36yqB9Scn0lyQZJHTVLDDBkAAMB0/jDJpUneleTJSc5IcnSSh3X3+ycpIJDtcFV1Zuae/LKs7t63Od0AAMCOcpv5+8ZSVb+X5MtJvr27vz5pAYFs59sjcAEAwIa4+pqN7j5UVZ9aSxhLBDIAAIBp3bmqLpvfriTHzu9Xku7u661WQCADAACYQnfvWm8NT1kEAAAYRCADAAAYRCADAAAYRCADAAAYRCADAAAYRCADAAAYxGPv+RbdozuYjcuvHN3B7Fx8+ZdHtzAzN7v2jUe3MDN7jr1gdAszc9UO+dXcnW6wQ76RJF+86vDoFmbmcwd3yA+WJFU1uoWZ6csvGd3CzFx5+ZdGtzAzu/fcYHQLM3P11ZePbmHb2Dk/vQAAALYZgQwAAGAQgQwAAGAQgQwAAGAQgQwAAGAQgQwAAGAQgQwAAGAQ7yHbeFdU1b5VzjlpE/oAAAC2GIFsg3X3WaudM0FgAwAAdiBLFgEAAAYRyAAAAAYRyAAAAAYRyAAAAAYRyAAAAAbxlMUtqKrOTLJnRuVOmlEdAABgxgSyrWlPd++bRSGP1AcAgK3LkkUAAIBBBDIAAIBBBDIAAIBBBDIAAIBBBDIAAIBBBDIAAIBBBDIAAIBBBDIAAIA1qqrrrjD2HZPWEcgAAADW7gNV9eiFB6pqT1X9SpK/nLSIQAYAALB2D0jyxKr666q6bVU9NMmHkhyT5NRJi+zeqO4AAAC2u6ram2TvgkP7u3t/d/9TkgdV1RlJPprk4iT/qbvPX0t9gQwAAGAZ3b0/yf7Fx6tqd5IzkjwpyX9N8p+TvKSq/mt3f2zS+pYsAgAArN37kpyQ5HvnZ8weluRFSV5bVc+ftIhABgAAsHZP6O6ndPfXrjnQ3X+R5LuTHJq0iEAGAACwRt393mWGvjfJDSet4x4yAACAdaiq705yepJHJ/lUkj+b9FqBDAAAYI2q6nZJTkvy2CSXJHlVkuru+6yljkAGAACwdh9N8rdJfri7L0iSqnr6Wou4hwwAAGDtHpm5d4+9rap+t6rul6TWWkQgAwAAWLvXdfdjktw+yduTPD3J8VX1sqp6wKRFBDIAAIC1e0+SdPc3uvt/dfeDk5yY5P1Jzpy0iEAGAACwdv9ueWJ3f6W7f6e77ztpEQ/1AAAAWLubVNUzlhvs7l+fpIhAtvNdUVX7Vjqhu1ccBwAA/p1dSa6bKR7ksZBAtsN191mjewAAgB3oC9393PUWcQ8ZAADA2q1rZuwaAhkAAMDa3W8WRQQyAACANerur8yijkAGAAAwiEAGAAAwiEAGAAAwiEAGAAAwiEAGAAAwiEAGAAAwiEAGAAAwiEAGAAAwyO7RDbC1XHXZ4dEtzMQlO+h3Dc8+cMHoFmZmz7E753v5rbveY3QLM3PGh989uoWZ+PAO+fsrSQ4dGt3B7NTBHt3CzBx97I1GtzAzn/3Ea0e3MDNfuezzo1uYmdsffdzoFmbmqKOuPbqFbWPn/FcrAADANiOQAQAADCKQAQAADCKQAQAADCKQAQAADCKQAQAADCKQAQAADCKQAQAADCKQAQAADCKQAQAADCKQAQAADCKQAQAADCKQAQAADCKQAQAADCKQAQAADCKQAQAADCKQAQAADCKQAQAADCKQAQAADCKQAQAADLJ7dAMkSa6oqn0L9k8a1AcAALCJBLItoLvPWri/KJwBAAA7lCWLAAAAgwhkAAAAgwhkAAAAgwhkAAAAU6iqX11vDYEMAABgGVW1t6oOLPjsXTD8wPXW95RFAACAZXT3/iT7lxneVVU3TFLLXPuV1eoLZAAAANO5fZL3ZulA1klus1oBgQwAAGA6H+nuU9dTwD1kAAAAgwhkAAAA03nxUgerak9VPWqSAgIZAADAFLr7D67ZrqpdVfWgqjo7yWeSPGaSGu4hAwAAmFJV/V9JTk/yQ0nek+SeSW7d3ZdPcr1ABgAAMIWqujDJZ5O8LMkZ3f31qvrUpGEssWQRAABgWn+W5ITMLU/84aq6TuYedz8xM2Rb072qat9mfbHu3rSvBQAAO0V3P7WqnpbkPkkem+TXklyvqh6d5A3d/S+r1RDItqbdQhIAAGx93d1J3prkrVV1VJIHZi6c/VaSG692vSWLAAAAU6iqP1i4391Xd/fruvv0JLecpIZABgAAMJ1Tlhvo7m9OUsCSRQAAgOlcu6pOTVJLDXb3P6xWQCADAACYzglJXpilA1knue9qBQQyAACA6VzQ3auGrpW4hwwAAGAQgQwAAGA6z1y4U1VHVdWpVXXTSQsIZAAAANN5RFV9V5JU1fWTfCDJ2UneV1WPnaSAQAYAADCd7+/u8+e3n5jk4919pyTfm+S/T1JAIAMAAJjOVQu275/knCTp7osnLSCQAQAATOerVfXg+XeR3TPJXyZJVe1OcuwkBTz2HgAAYDo/keQlSW6W5GkLZsbul+T1kxQQyAAAAKbQ3R9P8sAljr+pqr5zkhqWLAIAAMzeMyY5yQwZ3+LwVw6NbmEmrtwZ38acG+6c35tctXO+lZzx4XePbmFmfu2O9xjdwkw892PvGt3CzJx8g6NGtzAz5xy/c76XY65zs9EtzMytvutxo1uYmZtf+k+jW5iZS/75A6NbmJkvXPKJ0S1sBTXJSTvoP48AAAC2jJ7kJDNkAAAAU6iqr2fp4FXxlEUAAICN093HrbeGJYsAAACDCGQAAACDCGQAAACDCGQAAACDCGQAAACDCGQAAACDCGQAAACDCGQAAACDCGQAAACDCGQAAACDCGQAAACDCGQAAACDCGQAAACDCGQAAACDCGQAAACDCGQAAACDCGQAAACDCGQAAACDCGQAAACDCGQAAACDCGQAAACDCGQAAACDCGQAAABrVFW3X7B9zKKxe0xaRyDbmj49ugEAAGBFf7xg+12Lxn5r0iIC2db06dENAAAASVXtraoDCz57rxlaeNriyyatv3vdHQIAAOxQ3b0/yf6lhpbZXmp/WQIZAADA2p1YVS/J3GzYNduZ3z9h0iICGQAAwNqdsWD7wKKxxfvLEsgAAADWqLtfMYs6Atk2VVVnJtkzi1rdvW8WdQAA4EhRVfdKcpvuPnt+/9VJvm1++Fe6+62T1BHItq89ghQAAAzzS0l+ZsH+f0jyhCTXSfLsJBMFMo+9BwAAWLvrdfdHFux/orvf291/k+S4SYsIZAAAAGt3g4U73f2IBbvHT1pEIAMAAFi7j1bVDy0+WFUPTvKxSYu4hwwAAGDtnp7k9VX1I0n+Yf7Y9yb5viQPnrSIGTIAAIA16u4LkpyS5G+TnJTkVknekeS/JHnqpHXMkAEAAEyhu69M8vKqOjXJY5P8YpJPJfmzSWsIZAAAAGtUVbdLclrmgtglSV6VpLr7PmupI5ABAACs3Uczt1zxhy+md7UAACAASURBVOeXL6aqnr7WIu4hAwAAWLtHJrk4yduq6ner6n5Jaq1FBDIAAIA16u7XdPdjktw+ydsz99TF46vqZVX1gEnrCGQAAABT6u5vdPf/6u4HJzkxyfuTnDnp9QIZAADADHT3V7r7d7r7vpNeI5ABAAAMIpABAAAMIpABAAAMIpABAAAMIpABAAAMIpABAAAMIpABAAAMsnt0A2wtu260M/5I1FGjO5idm95kdAezc6cb7JzfAX34ssOjW5iZ537sXaNbmInn/If/OLqFmXndRe8b3cLsHBrdwOwcvPxLo1uYmcNXf3N0CzNzxQ76/+Wo3dce3cLMHLXrmNEtbBs757+OAAAAthmBDAAAYBCBDAAAYBCBDAAAYBCBDAAAYBCBDAAAYBCBDAAAYBCBDAAAYBCBDAAAYBCBDAAAYBCBDAAAYBCBDAAAYBCBDAAAYBCBDAAAYBCBDAAAYJDdoxtgSVdU1b5VzjlpE/oAAAA2kEC2BXX3WaudM0FgAwAAtjhLFgEAAAYRyAAAAAYRyAAAAAYRyAAAAAYRyAAAAAYRyAAAAAYRyAAAAAYRyAAAAAYRyAAAAGagqo6qqlOr6qaTXiOQAQAALKOq9lbVgQWfvQvGfruqvmt++/pJPpDk7CTvq6rHTlJ/94Z0DQAAsAN09/4k+5cZ/v7u/sn57Scm+Xh3P6yqbpbkjUn+ZLX6AtkOUVVnJtkzzbXdvW+23QAAwBHhqgXb90/yv5Okuy+uqokKCGQ7xx7BCgAANtVXq+rBST6f5J5JnpQkVbU7ybGTFBDIAAAApvMTSV6S5GZJntbdF88fv1+S109SQCADAACYQnd/PMkDlzj+piRvmqSGQAYAADCFqvqNJL3gUCf5cpK3dfc7J6khkAEAAEznwBLHvi3Jr1XVq7r7f65WQCADAACYQne/YqnjVfXbSf5PklUDmRdDAwAAzFB3f3PSc82QAQAAzMj8I+9/NMmFk5wvkAEAAEyhqr6euQd5LHwL9OVJ3pG5R+KvSiADAACYQncft94aAhkAAMCU5pcoPijJ7ecPfSTJm7r74CTXe6gHAADAFKrqFknOT/KzSW6R5IQk/z3J+fNjqzJDBgAAMJ1fTfKyxe8bq6r/luT5SR6/WgGBDAAAYDr36O4nLD7Y3S+pqo9NUsCSRQAAgOms9L6xyycpYIYMAABgOtevqkcscbySXG+SAgIZAADAdN6R5IeXGfubSQoIZAAAAFPo7ieut4ZABgAAMIWq+rEVhru7/3C1GgIZAADAdO66xLHK3DLGE5IIZAAAABuhu3/mmu2qqiSPS/LMJO9O8rxJaghkAAAAU6qq3UmekORnk/x9kh/p7oneQZYIZAAAAFOpqp9O8tQkb0nywO7+zFprCGR8i0OfuXJ0CzNx1O2OGd3CzOzaNbqD2fniVYdHtzAzhw6N7mB2Tr7BUaNbmInXXfS+0S3MzA/f4tTRLczMH+1+y+gWZqYPXT26hZk56jrHj25hZg4dvGJ0CzNzcAd9L9+8+hujW9gsv5HkS0nuleR1c6sWk8zdR9bdfcpqBQSy7euKqtq3YP+kQX0AAMCR6tbrLSCQbVPdfdbC/UXhDAAA2GDTLFFcTCADAACYQlV9PUkvNZS5JYvXW62GQAYAADCF7j5uvTWuNYtGAAAAWDuBDAAAYBCBDAAAYBCBDAAAYBCBDAAAYBCBDAAAYBCBDAAAYBCBDAAAYBCBDAAAYBCBDAAAYBCBDAAAYBCBDAAAYBCBDAAAYBCBDAAAYBCBDAAAYBCBDAAAYBCBDAAAYBCBDAAAYBCBDAAAYBCBDAAAYJDdoxtgZq6oqn3TXNjdU10HAACsj0C2Q3T3WaN7AACAI0lVPbK7/2yJ40cneWZ3//JqNSxZBAAAWEZV7a2qAws+excM762qN1bVrRec/6AkH0xyo0nqmyEDAABYRnfvT7J/mbH/VFWPTfLmqvrjJHdMcpMkj+nuD0xSXyADAACY3p8m+a4kT0/y1ST37e6PT3qxJYsAAABTqKp7JXlf5pYn3jLJU5K8rqqeW1XHTFJDIAMAAJjO/0zy5O7+qe6+tLvPSfI9SY5JYskiAADABrpbdx9eeKC7v5HkmVX1B5MUEMgAAACm0N2Hq+qmSX46c/eRdZKPJHlpd//jJDUsWQQAAJhCVd0zyXnzu2cn+aP57ffMj63KDBkAAMB0XpjkYd39vgXHXltVr0nyO0nuvloBM2QAAADTud6iMJYk6e73JzlukgICGQAAwHSqqm64xMFvy4RZSyADAACYzouS/FVV/UBVHTf/uXeSN86Prco9ZAAAAFPo7v1VdVGSX87cUxaT5Pwkv9Ldr5ukhkAGAAAwpe7+iyR/Me31AhkAAMAUquo5Kwx3d//yajUEMgAAgOl8Y4lj10nypCQ3ytxSxhUJZAAAAFPo7hdes11VxyV5apInJnll5t5RtiqBDAAAYErzj7h/RpLHJXlFku/p7ksnvV4gAwAAmEJV/VqSRyTZn+RO3f0va63hPWQAAADT+dkkt0jyC0kuqqrL5j9fr6rLJilghgwAAGAK3b3uCS4zZAAAAIMIZAAAAIMIZAAAAIMIZAAAAIMIZAAAAIMIZAAAAIN47D3f4tgDXxvdwkwc/OjRo1uYmc/u2Tm/N/ncwR7dwszUDvpezjn+qNEtzMah0Q3Mzh/tfsvoFmbmVb94v9EtzMxpVx0e3cLMXHX0zvnZ0te76+gWZuba/3TF6BZm5ru/8aOjW9g2ds6/jQAAANuMQAYAADCIQAYAADCIQAYAADCIQAYAADCIQAYAADCIQAYAADCIQAYAADCIQAYAADCIQAYAADCIQAYAADCIQAYAADCIQAYAADCIQAYAADCIQAYAADCIQAYAADCIQAYAADCIQAYAADCIQAYAADCIQAYAADDI7tENjFJVZybZM7qPraC7943uAQAAjkRHbCBLskcQAQAARrJkEQAAYBCBDAAAYBCBDAAAYBCBDAAAYApV9eNVdfL8dlXV/1dVl1XVB6vqeyapIZABAAAso6r2VtWBBZ+9C4afmuTT89uPTXJKklsneUaSF09S/0h+yiIAAMCKunt/kv3LDB/s7qvntx+c5OzuviTJm6vq/52kvhkyAACA6RyuqptX1Z4k90vy5gVjx05SwAwZAADAdJ6T5ECSXUnO7e7zk6SqfiDJJycpIJABAABMobv/oqpuleS47r50wdB5SU6bpIYliwAAAFPq7oPXhLH5Jy3eN8lLklwwyfUCGQAAwDpU1d2r6sVJPpPk3CR/m+T2k1wrkAEAAEyhqp5XVZ9I8qtJPpTk1CT/3N2vWLSEcVnuIQMAAJjO3iQfS/KyJH/R3VdUVa+lgBkyAACA6dwsyfOSPCTJBVX1h0mOraqJJ77MkAEAAEyhuw8leWOSN86/i+zBSa6d5PNV9ZbuPn21GgIZAADAOnX3FUleneTVVXVckkdMcp1ABgAAMIWqesZ6a7iHDAAAYDrHLfj83KL9605SwAwZAADAFLr7l67ZrqqHLdyflBkyAACA9VvT4+6vIZABAAAMYskiAADAFKrqQ/m3mbHbVtUHF4539ymr1RDIAAAApvOIJMcn+dyi47dKctEkBSxZBAAAmM6LklzW3Z9Z+Ely+fzYqgQyAACA6ZzU3R9cfLC7DyQ5aZICAhkAAMB09qwwduwkBQQyAACA6ZxXVT+++GBVPSnJeycp4KEeAAAA03laktdU1ePybwHsLkmOTvLwSQoIZAAAAFPo7i8m+b6quk+SO84ffn13v3XSGgIZAADAOnT325K8bZprBTK+xa5vXjG6hZk4/Im/G93CzBy88mujW5iZqhrdwswcfeyNRrcwM8dc52ajW5iJg5d/aXQLM9OHrh7dwsycdtXh0S3MzCufd//RLczMY54/8S/vt7y6xVGjW5iZg6MbmKGDN7ru6Ba2DQ/1AAAAGEQgAwAAGEQgAwAAGEQgAwAAGEQgAwAAGEQgAwAAGEQgAwAAGEQgAwAAGEQgAwAAGEQgAwAAGEQgAwAAGEQgAwAAGEQgAwAAGEQgAwAAGEQgAwAAGEQgAwAAGEQgAwAAGGT36AaOBFV1ZpI9o/tYTnfvG90DAAAciQSyzbFH6AEAABazZBEAAGAQgQwAAGAQgQwAAGAQgQwAAGCQaR/qcUVV7ZtlIwOcNLoBAADgyDZVIOvus2bdyGbbAYESAADY5ixZBAAAmJGqunFV1aTnC2QAAADLqKq9VXVgwWfvgrF7VNXbq+rPq+rUqvpwkg8n+WJVPXCS+l4MDQAAsIzu3p9k/zLDv5nk2Umun+StSR7U3e+uqtsn+ZMkf7lafTNkAAAA09nd3X/V3f87ycXd/e4k6e6PTlpAIAMAAJjO4QXb31w01pMUsGQRAABgOneuqsuSVJJj57czv79nkgICGQAAwBS6e9d6a1iyCAAAMIhABgAAMIhABgAAMIhABgAAMIhABgAAMIhABgAAMIhABgAAMIhABgAAMIhABgAAMIhABgAAMIhABgAAMIhABgAAMIhABgAAMIhABgAAMIhABgAAMIhABgAAMIhABgAAMIhABgAAMIhABgAAMIhABgAAMMju0Q2wtRy8+MOjW5iJo29yh9EtzMzRtXN+b9KXXzK6hZn57CdeO7qFmbnVdz1udAszcfjqb45uYWaOus7xo1uYmauO3jl/hz3m+W8d3cLMvOpZ9x3dwsy89FPvHt3CzLzj/4zuYIYuPTi6g21j5/wtCQAAsM0IZAAAAIMIZAAAAIMIZAAAAIMIZAAAAIMIZAAAAIMIZAD/f3v3Hi1ZVR94/Puzu6FBQEdARYi24gMHBQSMHUUXyCjG1T6Ij6ZD1J4ZpyUimkZA0NG5xESJCUNMIJoGFcmKgi6ViA9MRsEQAYlA82hFBBGNiMojAkorDb/545yC09V17z11+1Tt6uv3s1atW2efU7t+u86rfnX22VeSJKkQEzJJkiRJKsSETJIkSZIKMSGTJEmSpEJMyCRJkiSpEBMySZIkSSrEhEySJEmSCllYOgC1ExHHA4tHUXdmTo2iXkmSJEkzMyHbciw2cZIkSZLmF7ssSpIkSVIhJmSSJEmSVIgJmSRJkiQVYkImSZIkSYWYkEmSJElSISZkkiRJklSICZkkSZIkFWJCJkmSJEmFmJBJkiRJUiEmZJIkSZJUiAmZJEmSJBWysHQABa2PiKkxvdeSMb2PJEmSpDGJiL+ZaX5mvnW2On5rE7LMPGlc7zXGxE+SJElShyJiFbCqUbQmM9fUz48ArgU+BdwCxLD1/9YmZJIkSZI0mzr5WjPN7F2A1wDLgQ3AOcBnMvPOtvV7D5kkSZIkzUFm3p6ZH87Mg4CVwCOBdRHxurZ1eIVMkiRJkjZDROwLrABeBHwZuLzta03IJEmSJGkOIuJEYBnwHeBs4ITM3DBMHSZkkiRJkjQ37wa+D+xdP94XEVAN7pGZuddsFZiQSZIkSdLcPHFzKzAhkyRJkqQ5yMybB5VHxALgMGDg/CZHWZQkSZKkOYiIHSLihIg4NSJeHJWjqLoxvrZNHV4hkyRJkqS5+QfgTuAS4I3AscBWwCsyc22bCkzIJEmSJGlunpSZzwSIiDOA24DHZ+bdbSswIetYRBwPLO4rPjAipjaz6iWb+XpJkiRJ3bqv9yQz74+Im4ZJxsCEbBQWZ+ZUsyAipvrLhtVBQidJkiSpW3tHxF318wC2qad7w97vMFsFJmSSJEmSNAeZuWBz63CURUmSJEkqxIRMkiRJkgoxIZMkSZKkQkzIJEmSJKkQEzJJkiRJKsSETJIkSZIKMSGTJEmSpEJMyCRJkiSpEBMySZIkSSrEhEySJEmSCjEhkyRJkqRCTMgkSZIkqZCFpQPQZLn7ju+VDqET2234dekQuhPz53eTX//qZ6VD6Mwdd/24dAid2eXOG0uH0In182j7un/D+tIhdCZ3eHbpEDoTj1tUOoTOnHbTpaVD6MyRT1xaOoTOXHTFxaVD6MwDW8+f7y+j5iclSZIkSYWYkEmSJElSISZkkiRJklSICZkkSZIkFWJCJkmSJEmFmJBJkiRJUiEmZJIkSZJUiAmZJEmSJBViQiZJkiRJhSwsHYBaWx8RU6OoODNHUq8kSZKkmZmQbSEy86TSMUiSJEnqll0WJUmSJKkQEzJJkiRJKsSETJIkSZIKMSGTJEmSpEJMyCRJkiSpEBMySZIkSSrEhEySJEmSCjEhkyRJkqRCTMgkSZIkqRATMkmSJEkqxIRMkiRJkgoxIZMkSZKkQkzIJEmSJKkQEzJJkiRJGlJEnNlFPSZkkiRJkjS8vbqoZGEXlUiSJEnSfBQRq4BVjaI1mbkG2DYingXEoNdl5hVt6jchkyRJkqRp1MnXmgGzdgVOZnBClsAL29RvQiZJkiRJw7shM1slXTPxHjJJkiRJKsSETJIkSZKG9/7pZkTE49tWYkImSZIkScM7vvckIr7aN+/ctpWYkEmSJEnS8JqDeTxqhnkzMiGTJEmSpOHlNM8HTU/LURa7tyQipvrK1pcIRJIkSdLIPDoijqa6GtZ7Tj29c9tKTMi694PMnCodhCRJkqSROh3YfsBzgDPaVmJCJkmSJElDyswTu6jHhEySJEmShhQRewK7Z+bn6+lTgEfUs0/NzCva1OOgHpIkSZI0vJOA2xrThwBfBC4A3tO2Eq+QSZIkSdLwdsnMixvTd2XmZwAi4k1tK/EKmSRJkiQNrzmIB5m5tDH56LaVmJBJkiRJ0vBuiYjn9BdGxFLglraV2GVRkiRJkob3DuCciDgT6A3gsR/wBmB520q8QiZJkiRJQ8rMy4ClwAJgZf14GLC0nteKV8gkSZIkaQ4y86cMGFExIp6Xmd9oU4cJmSRJkiQNKSIWAK8FdgW+nJnrImIZ8E5gG+BZbeoxIZMkSZKk4X0E+B3gMuBvI+Jm4PeA4zPz3LaVmJBJkiRJ0vD2B/bKzAciYjHVP4l+cmbeOkwlDuohSZIkScP7TWY+AJCZ64Hrh03GwCtkkiRJkjQXe0TE1fXzAHavpwPIzNyrTSUmZJIkSZI0vKd3UYkJmSRJkiQNKTNvHlQeEc8D/hA4sk09JmTayMO33610CJ1YtMvepUPoTP7nj0uH0JmFix9ZOoTO7LHV9qVD6MztP7+qdAidWLRw29IhdGbDhvWlQ+jMtjfOn7ZsKB1Ah75+cekIunPRFfOnMWe/6rmlQ+jMB264tHQIYxUR+1AlYa8FbgI+2/a1JmSSJEmSNKSIeCpwGLACuB04B4jMPGiYekzIJEmSJGl41wEXAS/LzBsAImL1sJU47L0kSZIkDe9VwK3ABRFxekQcTDXC4lBMyCRJkiRpeOdl5nJgD+BCYDXwmIj4UES8uG0lJmSSJEmSNLzLADLzl5n5j5m5DNgNWAsc37YS7yGbYBFxPLB41O+TmVOjfg9JkiRpntmke2Jm3gH8ff1oxYRssi02WZIkSZIm0s4RcfR0MzPz/7apxIRMkiRJkoa3ANiOOQzk0WRCJkmSJEnD+0lm/unmVuKgHpIkSZI0vM26MtZjQiZJkiRJwzu4i0pMyCRJkiRpSPWIipvNhEySJEmSCjEhkyRJkqRCTMgkSZIkqRATMkmSJEkqxIRMkiRJkgoxIZMkSZKkQkzIJEmSJKkQEzJJkiRJKsSETJIkSZIKMSGTJEmSpEJMyCRJkiSpEBMySZIkSSrEhEySJEmSCjEhkyRJkqRCFpYOQJIkSZImVUSsAlY1itZk5pp63utnem1mnjVb/SZkkiRJkjSNOvlaM83sZw8oC+BlwK6ACZkkSZIkjUJmHtV7HhEBHA68A7gU+PM2dZiQSZIkSdIcRcRCYCXwduCbwKsz87ttX29C1r31ETHVUV1LOqpHkiRJUsci4kjgbcBXgZdk5s3D1mFC1rHMPKmrujpM7CRJkiR172+BnwEHAOdVvRaB6j6yzMy9ZqvAhEySJEmS5ubNwPlADpi3vE0F/h8ySZIkSZqb04CPAhsy8+bmAzisTQUmZJIkSZI0N1cDnwQujYjX9M2LActvwoRMkiRJkuYmM/N04GDguIj4WERs25vXpgITMkmSJEnaDJl5PfB7wE+BKyPiOW1f66AekiRJkjQ3D3ZLzMwNwPERcT5VN8ad21RgQiZJkiRJc3Nif0FmXhgR+wFvalOBCZkkSZIkzUFmnjtN+Z1Aq/9P7D1kkiRJklSICZkkSZIkFWJCJkmSJEmFmJBJkiRJUiEmZJIkSZJUiAmZJEmSJBViQiZJkiRJhZiQSZIkSVIhJmSSJEmSVIgJmSRJkiQVYkImSZIkSYWYkEmSJElSISZkkiRJklTIwtIBaLJsvdPTS4fQid/cek3pEDrzq7t/VDqEztx3369Kh9CZRYu2LR1CZ35y+/dKh9CJRQu2Lh1CZ+6975elQ+jMPr98XekQOrNhx+1Kh9CdOzeUjqAzD2w9f64vfOCGS0uH0Jnjnry0dAhbjPmzBUuSJEnSFsYrZJNtfURMjfpNMnPk7yFJkiRpUyZkEywzTyodgyRJkqTRscuiJEmSJBViQiZJkiRJhZiQSZIkSVIhJmSSJEmSVIgJmSRJkiQVYkImSZIkSYWYkEmSJElSISZkkiRJklSICZkkSZIkFWJCJkmSJEmFmJBJkiRJUiEmZJIkSZJUiAmZJEmSJBViQiZJkiRJhZiQSZIkSVIhJmSSJEmSVIgJmSRJkiQVYkImSZIkSYWYkEmSJElSISZkkiRJklSICZkkSZIkFWJCJkmSJEkdiIgdI+LQiNiv7WtMyCRJkiRpDiLiCxHxjPr5LsC1wP8A/iEi/qRVHZk5whClTUXEqsxcUzqOLtiWyWRbJtN8act8aQfYlkllWyaTbZlM42hLRKwCVjWK1vTeMyLWZeae9fN3Antk5usjYnvgG5m512z1e4VMJayafZEthm2ZTLZlMs2XtsyXdoBtmVS2ZTLZlsk08rZk5prM3L/xaCaA9zWeHwx8qX7N3cADbepf2F2okiRJkvRb5UcRcRTwH8C+wPkAEbENsKhNBV4hkyRJkqS5+Z/AnsBKYHlm/mddvhT4WJsKvEKmEuZFn+WabZlMtmUyzZe2zJd2gG2ZVLZlMtmWyVS0LZn5M+CIAeUXABe0qcNBPSRJkiRpDiLiPGDahCozXz5bHV4hkyRJkqS5+avNrcArZJIkSZK0mSJiZ4DM/Pkwr3NQD80qIu6PiLURcW1EfDoidq2n10bErRHx48b0Vn3LnxcRj+yrb3VErI+IR9TThzRef09EfLd+flZEHBgRX2i89pURcXVEXBcR10TEK0fQ3sdGxNkRcWNEfDsivhQRT42Ie+u4vl3Htqhe/sEYI2JlRGREHNyo79C67NVdx9qyPUOtj7rswIj4RURcWa+Pf42IZeOPfmMRseMs217vs96j8Zr967ZvVU/vHhHfj4gdxhj3PQPKnhYRF9axfyci1sy0LzRe98G63Q+rp/974zW/qfeLtRFx0rjaV8cx6LN/SlT/MPPGiLg8Ii6IiBfU81ZGxM8bsa+NiP865pjvqf8uqWM/qjHv1IhYWT8/MyJuioirIuL6ev/ftb+exvTKiDi1fr7Jeh5T2zIiTm5MHxMRU43pVfVx9LqIuCwiDqjLF9Tr6gWNZf85Il4zjribZjgWX9u33FREHNOYXhgRt0XE+/uWW1Yf066q63vTuNrSVuN4fVVEXBERzy0dUxvTnWca+9Z7G8vuFBH39faREcc1l3PGkpjmfF/P/916n/5evY6+GBHPrOdN9b3H2ohYPttxfYTtP7QvlrUR8UBE/PFMx7xJ09i+1tX7xtHx0Dmw+R3sMVGdc3r7+JfGGOP/iYjbgOuA66M6v72ndQWZ6cPHjA/gnsbzfwSObkxPAcfMsPzHgXf1zb8MuAhYOeC9LgT2b0wfCHyhfr43cAPwxHr6ifX0Xh22NYBLgCMaZfsAzweuracXAF8DDh8Q40rgauCMxuvPAdYCr56A9ddqfTTb1PgMfgAcXHp7nGXb+1Tdlqm+8r8D3lk/Px9YUWodNMq+AryiMf3Mvvkb7Qt12cOAHwKXAgcOqPMHwE6F1sdGnz2wGLgeeHljmWf0trN6Xzm18DZ0T/13CfDT+niyVV12aiPWM3v7b32MWF23batmPY16H2zbbOt5hG1bD9zU2x6AYxrrZhlweWPevvV29dh6+jnANVTDNa8AvlJg3cx6LG6Ub3QsAF4KfAO4kYd6Ai0CbgF2q6e3Bp5WcvubaZusnx8CfL10THOI+8HzTL1v3Qhc2Zj/x1TnxLHu//3bSV22yTmjjnm68/1jqI6zz20sfwDwyuneo+/9LqTvuD7mz2AV8HXgSTMd8ybt0bd9PRr4f8CJ9fSBPPQd7O+BtzWW7ez74SzxrQb+hfr7aV32JKrj/+o2dXiFTMO6CHjyEMtfAjR/Sd4d2A7431Qn+mEcA7wvM28CqP++Hzh2yHpmchBwX2Z+uFeQmWuBHzWm76dKYnbd9OVA9Rn9bkQsiojtqD6vtR3GuDnmtD7qz+BPgbeMOsC5qj/r51ENP3tY3+x3Am+MiOOARZn5yXHHN8AuVP+zBIDMvKbFaw4CrgU+xPD7z8hM89kfDlySmZ/vLZeZ12bmmeOPsJWfA18F3jDTQlk5BbgV+P0W9c5lPXdhA9XIY6sHzHsHcGxm3lbHdAXVl+gj6+lvAhdTfbl8X698zGY9Fs9gBfBBqiRzaV22PdV987fXdf06M7/bacTd2wG4s3QQc7DReQa4F/hOROxfTy+nSoSKmuWcAQw8378F+HhmXtxY5t8y89wRh7vZIuKpwHuA11H9s+JWx7xJk9WIhquAt0RE9M3uP95ePaawXk/1Q+9Njff+PvBH9bxZmZCptYhYSPUFpNUXiohYQPUfyz/fKF4BfJIqaXlaRDx6iBD2pPpVt+lbdXlXnjHgPTYSEYupfkE+f5pFkurXm0OAV7Bx+4vpYH1cAewx+82vpQAABrtJREFUw/zSXgmcn5nXA3dExL69GVn9T5C/oErg31wovn6nAF+LiC9H1W30kbO+4qH19TlgWbMbTWGDPvs9qbaZmTS78qyN6p9olnQS8PZ6X5lN2/1hLuu5K6cBh0ejO3KtzbH0BOBPgE9k5g2jC3FaMx2Ld29uNzSGm663oYOBL1DtKysAMvMOqmPfzRHxyYg4vNflacJsU7frOuAM4L2zvWCSTHOeATgbOCwidgPup7paWdq054yeAef7Nse11Y3ts9WQ56NWnys+QXX17oeNWcMc8yZGnew8jOpqWdNpwEei6h7/roh43JhCWtT7gaspq/vI/MfQ6sw29UnvW1S/OH6k5fK3A4+iuozbcxhwdmY+AHwWGOa+hGDTYUUHlY3K7o12/XCWX17OpmrrYVRfCkrqan30/xI1aVZQfe7Uf/uvIP0+VReNsd6nNJ3M/BjwdODTVF0uLo2IradbPqp74F4KnJuZdwHfBF48hlDbmO2zJyI+F9X9JZ9tFJ+Tmfs0HveOI9jp1L9uXgb8YYvFZ9sfsq5zqPXcpXo7OQt4a4vF+4+lLwB+QZUYTZobm9sN8OHGvGXABZn5K+AzwKG9L5uZ+UaqZOEyqh4XHx1z3G3cW7drD+AlwFkDrgJMopnOM1AlNC+iOjacM+bYpjPTcavV+T4ivhnVvaEfbBSf0tg+DxpJ5MN7L7AuM89uFg55zJs0m+wXmfkVqq6Cp1P9YHZl1INsjNhv5jjvQSZkauPexsHlqMycbeO6tz5JPgHYirq7S0TsBTwF+JeI+AFVMjBMt6t1wP59ZfsC3x6ijjbvsd80826s2/VkYGlETPt/JTLzMqovMjvVv76V1NX6eBbwndGGOjcRsSPwQuCMui3HUl19iXr+MuARVFct/zIiti0Va1Nm3pKZH83MV1B1MZvpy+9LqNpwTd3GA5iAbovTffZU+1LzKuWhVPdWPWr8UQ7lfVRd+mY7Pzb3h3vrhLnnUcCDv5YOuZ679tdUXbIe3ij7Npse5x48lkbEw4EPUK3XnSPipWOIs99Mx+KZrAD+W70tXg7sSNX9Eai6jNZdTl8EvKqDOEcmMy8BdgLG8YVycw08z/TU3xsuB95OlSgXNds5g+nP9/3HtecA76Y6Nk+kiDiQaluf7paDtse8iRERT6K60vqz/nmZeUdmfiIzXwf8O9WPS6O2d0TcNeBxN/DMNhVsMR++tjyZ+QuqX2aPqS+Xr6C6cXZJ/XgcsGtEPKFllX8FnBARS6AaCYnq3qCTp33F8L4GbB0R/6tXEBHPpjrJAJCZPwGOp+rSM5MT6vgmwuasjzp5ezdVd4BJ9GrgrMx8Qt2W36Ea0OCAugvTycCR9f07/wS8q2CsAETES+KhkTofS/XF8cczvGQF8Mbe+qIa1ObFE5BcTvfZXw88r++Hi9Kxziozr6NKTAaOKhqVt1Ldq9DrxvR1qnsFel3mXgtcUE8Pu547VXfV+xRVUtbzAeAv6i+lRMQ+VMny39Xz3wN8qv4s3gycUnfdGqdZj8X9oho59QDg8Y395EhgRURsV38x7dkHuHkUgXclqpH/FlDf97YlGHCeaToZeEdmTkJ7pj1nNBcacL4/DVgZG49+ObHHtYj4L8DHgNdn5t2DlpntmDdp6iteH6YaFCb75r2wd06MiO2B3al6do1UZi7IzB0GPLbPTLssqrzMvBK4ioe6732ub5HPMc3NtAPqWkv1K855df/684Dj6vKu4k3gUOBFUQ21vI7qxvb+/u7nAttGxPNnqOvLmTkR/cd7hlwfz4962Huqk9BbM/OrYwt2OCvYtC2foeqG8W6qbn69K6lTVPcyPGV84bFtRPxH43E0VXfDayPiKqqRmI7NzFsHvbg+wRwCfLFXlpm/BP4NeNnow5/RTJ/9MuCIqP7NwCVUg8f8WWO5/nvIJmWI7z8Hdusr+8t6XV0PPBs4qNFb4G3AH9RdnC4FPp2Z/1rPa72eR+hkqistAGQ10MpHgYvrY+npwB9l5k+i+tcDh1J9Br3j7leojr1jM8SxuOkPgK9l5q8bZf8EvJwqsTku6iHHgROpktBJ07uHbC1V1743ZDWwxBaj7zzTLF+XmR8vE9UmZjpu9XvwfF/vu8uB90fEDRFxMVVy1xzCf3XfcW1J9+G3dgTVfVYfio3vu1zet9ygY94k6e0X66ju0f9nqn24337AtyLiaqrBZc7IzH8fY5xz5j+GliRJkqRCvEImSZIkSYWYkEmSJElSISZkkiRJklSICZkkSZIkFWJCJkmSJEmFmJBJkiRJUiEmZJIkSZJUyP8HCoXL1baf0DQAAAAASUVORK5CYII=\n",
      "text/plain": [
       "<Figure size 1080x1080 with 4 Axes>"
      ]
     },
     "metadata": {
      "needs_background": "light"
     },
     "output_type": "display_data"
    }
   ],
   "source": [
    "corr = df.corr()\n",
    "sns.clustermap(corr, figsize=(15, 15), cmap='mako', method='centroid')"
   ]
  },
  {
   "cell_type": "code",
   "execution_count": 9,
   "metadata": {},
   "outputs": [
    {
     "data": {
      "text/plain": [
       "TARGET     1.000000\n",
       "LSTAT      0.737663\n",
       "RM         0.695360\n",
       "PTRATIO    0.507787\n",
       "INDUS      0.483725\n",
       "TAX        0.468536\n",
       "NOX        0.427321\n",
       "CRIM       0.388305\n",
       "RAD        0.381626\n",
       "AGE        0.376955\n",
       "ZN         0.360445\n",
       "B          0.333461\n",
       "DIS        0.249929\n",
       "CHAS       0.175260\n",
       "Name: TARGET, dtype: float64"
      ]
     },
     "execution_count": 9,
     "metadata": {},
     "output_type": "execute_result"
    }
   ],
   "source": [
    "# დავალაგოთ კორელაციების კლებადობის მიხედვით\n",
    "\n",
    "np.abs(corr['TARGET']).sort_values(ascending=False)"
   ]
  },
  {
   "cell_type": "markdown",
   "metadata": {},
   "source": [
    "ახლა პროგნოზზე გადავიდეთ.\n",
    "\n",
    "წარმოვიდგინოთ, რომ ჩვენი მიზანია MSE- ს ოპტიმიზაცია (Mean Squred Error).\n",
    "\n",
    "ამ შემთხვევაში, ტრივიალური გადაწყვეტა constant predictor გამოყენებით (ყოველთვის ვარაუდობს იგივე მნიშვნელობას, შეყვანის მიუხედავად) იქნება მონაცემთა ბაზაში მოცემული მიზნების <b> საშუალო მაჩვენებელი </b>. მათემატიკურად შეიძლება დავამტკიცოთ, რომ MSE– სთვის ოპტიმალური მუდმივი პროგნოზი ნამდვილად ნიშნავს. \n",
    "მოდით გავარკვიოთ, თუ რა არის MSE ამ შემთხვევაში (სიმარტივისთვის ჩვენ არ ვყოფთ მონაცემებს და ყველაფერს გავაკეთებთ ახლავე მითითებულ ტრენინგზე)\n"
   ]
  },
  {
   "cell_type": "code",
   "execution_count": 13,
   "metadata": {},
   "outputs": [
    {
     "data": {
      "text/plain": [
       "84.4195561561656"
      ]
     },
     "execution_count": 13,
     "metadata": {},
     "output_type": "execute_result"
    }
   ],
   "source": [
    "def mse(x, y):\n",
    "    return np.mean((y - x) ** 2)\n",
    "\n",
    "constant_predictor = df['TARGET'].mean()\n",
    "\n",
    "mse(constant_predictor, df['TARGET'])"
   ]
  },
  {
   "cell_type": "markdown",
   "metadata": {},
   "source": [
    "ემპირიულად ვხედავთ, რომ ოპტიმალური მუდმივი პროგნოზირებისგან გადახრა იწვევს MSE– ს ზრდას, ანუ MSE– ს ოპტიმალურია."
   ]
  },
  {
   "cell_type": "code",
   "execution_count": 14,
   "metadata": {},
   "outputs": [
    {
     "data": {
      "text/plain": [
       "(85.41955615616551, 85.41955615616557)"
      ]
     },
     "execution_count": 14,
     "metadata": {},
     "output_type": "execute_result"
    }
   ],
   "source": [
    "eps = 1\n",
    "\n",
    "mse(constant_predictor - eps, df['TARGET']), mse(constant_predictor + eps, df['TARGET'])"
   ]
  },
  {
   "cell_type": "markdown",
   "metadata": {},
   "source": [
    "კარგი, ახლა მოდით ვცადოთ ოდნავ უკეთესი.\n",
    "\n",
    "შევეცადოთ გავყოთ ჩვენი სასწავლო კომპლექტი <b> ორ ჯგუფში </b> და თითოეული ჯგუფისთვის, გამოვთვალოთ <b> საკუთარი საშუალებები </ b>. თუ ეს გაყოფა ჭკვიანურად გამოვიყენებთ, ინტუიციურად ორი გზა უკეთესი იქნება ვიდრე უბრალოდ <b> ერთიანი გლობალური საშუალების გამოყენება </b> როგორც ეს წინა მაგალითში გავაკეთეთ.\n",
    "\n",
    "გაყოფის გაკეთების ერთი გზა არის მონაცემების მახასიათებლების არჩევა, ვთქვათ X, და რამდენიმე threshold, T და შევადგინოთ: <br /> <br />\n",
    "ჯგუფი 1 - {ყველა ქულა, რომელსაც აქვს $ X <T $} <br /> \n",
    "ჯგუფი 2 - {ყველა ქულა, რომელსაც აქვს $ X> = T $} <br />\n",
    "\n",
    "შემდეგ გვექნება 2 მუდმივი პროგნოზი - ერთი თითოეული ჯგუფისთვის - და ყოველი შეყვანისთვის, პირველ რიგში, განვსაზღვრავთ მის ჯგუფს და შემდეგ ჯგუფის საშუალებებს გამოვიყენებთ მიზნის შესაფასებლად.\n",
    "\n",
    "ეს ინტუიცია არის მიღებული გადაწყვეტილების ხე- 1 სიღრმით.\n"
   ]
  },
  {
   "cell_type": "code",
   "execution_count": 15,
   "metadata": {},
   "outputs": [],
   "source": [
    "from sklearn.tree import DecisionTreeRegressor, plot_tree"
   ]
  },
  {
   "cell_type": "code",
   "execution_count": 16,
   "metadata": {},
   "outputs": [
    {
     "data": {
      "text/plain": [
       "[Text(167.4, 163.07999999999998, 'RM <= 6.941\\nmse = 84.42\\nsamples = 100.0%\\nvalue = 22.533'),\n",
       " Text(83.7, 54.360000000000014, 'mse = 40.273\\nsamples = 85.0%\\nvalue = 19.934'),\n",
       " Text(251.10000000000002, 54.360000000000014, 'mse = 79.729\\nsamples = 15.0%\\nvalue = 37.238')]"
      ]
     },
     "execution_count": 16,
     "metadata": {},
     "output_type": "execute_result"
    },
    {
     "data": {
      "image/png": "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\n",
      "text/plain": [
       "<Figure size 432x288 with 1 Axes>"
      ]
     },
     "metadata": {
      "needs_background": "light"
     },
     "output_type": "display_data"
    }
   ],
   "source": [
    "# გადაწყვეტილების ხე სიღრმე 1.\n",
    "dt = DecisionTreeRegressor(max_depth=1)\n",
    "\n",
    "# მოდელის fitting-ი\n",
    "model = dt.fit(X, y)\n",
    "\n",
    "# ხის ვიზუალიზაცია\n",
    "plot_tree(model, feature_names=cols, proportion=True)"
   ]
  },
  {
   "cell_type": "markdown",
   "metadata": {},
   "source": [
    "როგორც ვხედავთ, გადაწყვეტილების ხე აირჩია მახასიათებლის \"RM\" და ბარიერი T = 6.941, რათა გაყოფილიყო. თქვენ ასევე შეგიძლიათ იხილოთ ნიმუშების პროპორცია ორ ჯგუფში და პროგნოზისთვის გამოყენებული საშუალების მნიშვნელობა.\n",
    "\n",
    "მოდით გადავამოწმოთ ეს სურათი:\n"
   ]
  },
  {
   "cell_type": "code",
   "execution_count": 17,
   "metadata": {},
   "outputs": [
    {
     "data": {
      "text/plain": [
       "(19.93372093023257, 37.23815789473684, 40.272839643050304, 79.7292018698061)"
      ]
     },
     "execution_count": 17,
     "metadata": {},
     "output_type": "execute_result"
    }
   ],
   "source": [
    "left = df[df['RM'] < 6.941]['TARGET']\n",
    "right = df[df['RM'] > 6.941]['TARGET']\n",
    "\n",
    "left.mean(), right.mean(), mse(left.mean(), left), mse(right.mean(), right)"
   ]
  },
  {
   "cell_type": "markdown",
   "metadata": {},
   "source": [
    "ინტუიციურად, ჩვენ შეგვიძლია გავყოთ გავლით და ჯგუფებად (ფოთლოვან კვანძებზე) რეკურსიულად მივმართოთ იგივე გაყოფის ლოგიკას ...\n",
    "\n",
    "მაგალითად, ხე სიღრმე = 2 შეგიძლიათ იხილოთ ქვემოთ\n"
   ]
  },
  {
   "cell_type": "code",
   "execution_count": 18,
   "metadata": {},
   "outputs": [
    {
     "data": {
      "text/plain": [
       "[Text(167.4, 181.2, 'RM <= 6.941\\nmse = 84.42\\nsamples = 100.0%\\nvalue = 22.533'),\n",
       " Text(83.7, 108.72, 'LSTAT <= 14.4\\nmse = 40.273\\nsamples = 85.0%\\nvalue = 19.934'),\n",
       " Text(41.85, 36.23999999999998, 'mse = 26.009\\nsamples = 50.4%\\nvalue = 23.35'),\n",
       " Text(125.55000000000001, 36.23999999999998, 'mse = 19.276\\nsamples = 34.6%\\nvalue = 14.956'),\n",
       " Text(251.10000000000002, 108.72, 'RM <= 7.437\\nmse = 79.729\\nsamples = 15.0%\\nvalue = 37.238'),\n",
       " Text(209.25, 36.23999999999998, 'mse = 41.296\\nsamples = 9.1%\\nvalue = 32.113'),\n",
       " Text(292.95, 36.23999999999998, 'mse = 36.628\\nsamples = 5.9%\\nvalue = 45.097')]"
      ]
     },
     "execution_count": 18,
     "metadata": {},
     "output_type": "execute_result"
    },
    {
     "data": {
      "image/png": "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\n",
      "text/plain": [
       "<Figure size 432x288 with 1 Axes>"
      ]
     },
     "metadata": {
      "needs_background": "light"
     },
     "output_type": "display_data"
    }
   ],
   "source": [
    "dt = DecisionTreeRegressor(max_depth=2)\n",
    "model = dt.fit(X, y)\n",
    "plot_tree(model, feature_names=cols, proportion=True)"
   ]
  },
  {
   "cell_type": "markdown",
   "metadata": {},
   "source": [
    "ზოგადი შენიშვნები რეგრესიის გადაწყვეტილების ხეების შესახებ\n",
    "\n",
    "საერთოდ, არ არის საჭირო ორობითი ხეების გამოყენება (ე.ი. ორი ადამიანის ნაცვლად შეიძლება სამი ჯგუფი გვქონდეს) და გაყოფილიყო ცალკეული მახასიათებლის არჩევა. თუმცა, ჩვენ მიერ გამოყენებული მიდგომა ყველაზე ფართოდ გამოიყენება და პოპულარულია.\n",
    "პრაქტიკაში, ხეები განიცდიან დაბალ მიკერძოებას და ძალიან მაღალ ცვალებადობას - ანუ ისინი ტენდენციას განიცდიან. ხის სირთულის კონტროლის ერთ-ერთი გზაა მისი სიღრმის შეზღუდვა ან კოდის დასადგენად საჭირო მონაცემთა მინიმალური რაოდენობის შეზღუდვის დაწესება. ჩვეულებრივ, ანსამბლის მიდგომები (ამ კლასში გატარება) გამოიყენება ცვალებადობის შესამცირებლად.\n",
    "ნომინალური კატეგორიული ცვლადების (მაგ., რომელთა შეკვეცაც შეუძლებელია) გაყოფა ხდება ცვლადისთვის მნიშვნელობათა სიმრავლის დაყოფით. მაგალითად, თუ ჩვენ გვაქვს X = {A, B, C}, ვიდრე შეიძლება გვქონდეს {A} {B, C}  როგორც განაყოფი.\n",
    "მეტის გაგება: https://scikit-learn.org/stable/modules/tree.html\n"
   ]
  },
  {
   "cell_type": "markdown",
   "metadata": {},
   "source": []
  },
  {
   "cell_type": "code",
   "execution_count": 19,
   "metadata": {},
   "outputs": [],
   "source": [
    "from sklearn.model_selection import train_test_split, cross_val_score\n",
    "from sklearn.utils import shuffle"
   ]
  },
  {
   "cell_type": "code",
   "execution_count": 20,
   "metadata": {},
   "outputs": [
    {
     "name": "stdout",
     "output_type": "stream",
     "text": [
      "Var: 6.426542325285744\n"
     ]
    }
   ],
   "source": [
    "X_train, X_test, Y_train, Y_test = train_test_split(X, y, train_size=0.95)\n",
    "\n",
    "preds = []\n",
    "for i in range(100):\n",
    "    \n",
    "    X_tr, Y_tr = shuffle(X_train, Y_train)[:100]\n",
    "\n",
    "    Y_pred = DecisionTreeRegressor(max_depth=10).fit(X_tr, Y_tr).predict(X_test)\n",
    "\n",
    "    preds.append(Y_pred)\n",
    "    \n",
    "    \n",
    "print('Var:', np.mean((np.array(preds) - np.mean(preds, axis=0))**2))"
   ]
  },
  {
   "cell_type": "markdown",
   "metadata": {},
   "source": [
    "### Ensembling"
   ]
  },
  {
   "cell_type": "markdown",
   "metadata": {},
   "source": [
    "მოდელის ანსამბლი არის ტექნიკა მანქანაში სწავლისას <b> სტაბილიზაცია (შეამციროს ცვალებადობა) </b> მოდელის პროგნოზი უხილავი ნიმუშების შესახებ. განსაკუთრებით სასარგებლოა თანდაყოლილი <b> მაღალი ცვალებადობის </b> მოდელებისთვის, მაგალითად, გადაწყვეტილების ხეებისთვის.\n",
    "\n",
    "იდეა ერთი და იგივე ამოცანისთვის მომზადებული მრავალჯერადი მოდელის სწავლება და მათი პროგნოზების შერწყმაა, ჩვეულებრივ, რეგრესიისა და კლასიფიკაციის შემთხვევაში, საშუალოდ ხმის მიცემით ან ხმათა უმრავლესობით ხდება.\n",
    "იმის გასაგებად, თუ რატომ მუშაობს ეს (ანუ ამცირებს მოდელის ვარიანტს), მოდით გადახედოთ შემდეგ ფაქტს:\n",
    "\n",
    "To see why it works (i.e reduces model variance), let's take a look at following fact:\n",
    "\n",
    "Let's $X_1, X_2, ..., X_n \\sim^{iid} X$ and $\\bar{X_n}=\\frac{1}{n}\\sum_{i=1}^n{X_i}$ be a sample average. If $Var(X_i)=\\sigma^2$, then $Var(\\bar{X_n})=Var(\\frac{1}{n}\\sum_{i=1}^n{X_i})=\\frac{\\sigma}n$\n",
    "\n",
    "ეს ფაქტი შეიძლება ითარგმნოს ML ტერმინოლოგიაში: თუ ვიღებთ $ N $ \"დამოუკიდებელ\" მოდელებს გარკვეული ვარიაციით და საშუალოთი ვხვდებით მათ პროგნოზს, უნდა მივიღოთ linear decay of variance. დამოუკიდებლობისთვის ჩვენ ვგულისხმობთ დამოუკიდებელ ნიმუშებზე მომზადებულ მოდელებს, რომლებიც შედგენილია underlying data distribution,, თუმცა პრაქტიკაში ეს შეუძლებელია, ამიტომ ჩვენ გამოვიყენებთ <b> Cross-Validation </b> დამოუკიდებელი ნიმუშების, ან ე.წ. ფსევდო დამოუკიდებელი ნიმუშის წარმოქმნა შესაძლებელია თავად ნიმუშიდან, ჩანაცვლებით).   ეს ჩვეულებრივ კარგად უშაობს.\n",
    "\n",
    "ინტუიციურად <b> ერთი მოდელის VS ანსამბლი </b> არის მასზე ფიქრი, როგორც გადაწყვეტილება მიიღოს ერთმა ადამინმა არ მთელმა ჯგუფმა - უკანასკნელი უფრო სტაბილური და სანდოა.\n",
    "\n"
   ]
  },
  {
   "cell_type": "markdown",
   "metadata": {},
   "source": [
    "<b><big>Random Forests</big></b>\n",
    "\n",
    "პრაქტიკაში, თითქმის ყოველთვის ვიყენებთ გადაწყვეტილების ხის ანსამბლს (a.k.a <b> Random Forests </b>) ერთი ხის ნაცვლად. შემთხვევითი ტყე შედგება მრავალჯერადი გადაწყვეტილების ხისგან, როგორც წესი, თითოეული სწავლობს სასწავლო მონაცემებზე. ამასთან, ეს ჩვეულებრივი პრაქტიკაა თითოეული ცალკეული ხის თვისებების <b> მცირე შემთხვევითი ჩანართი </b> და ამ მახასიათებლების საფუძველზე ააშენეთ ხეები. ტყეში ხეების რაოდენობა ძალზედ განსხვავდება დავალებიდან დავალებამდე, შეიძლება იყოს 10, 100 ან თუნდაც 1000\n"
   ]
  },
  {
   "cell_type": "code",
   "execution_count": 22,
   "metadata": {},
   "outputs": [],
   "source": [
    "from sklearn.ensemble import RandomForestRegressor"
   ]
  },
  {
   "cell_type": "code",
   "execution_count": 23,
   "metadata": {},
   "outputs": [
    {
     "name": "stdout",
     "output_type": "stream",
     "text": [
      "Var:   0.14038565062670522\n"
     ]
    }
   ],
   "source": [
    "X_train, X_test, Y_train, Y_test = train_test_split(X, y, train_size=0.95)\n",
    "\n",
    "preds = []\n",
    "for i in range(100):\n",
    "    \n",
    "    X_tr, Y_tr = shuffle(X_train, Y_train)[:100]\n",
    "\n",
    "    Y_pred = RandomForestRegressor(max_depth=10, n_estimators=50).fit(X_tr, Y_tr).predict(X_test)\n",
    "\n",
    "    preds.append(Y_pred)\n",
    "    \n",
    "    \n",
    "print('Var:  ', np.mean((np.array(preds) - np.mean(preds, axis=0))**2))"
   ]
  },
  {
   "cell_type": "markdown",
   "metadata": {},
   "source": []
  }
 ],
 "metadata": {
  "kernelspec": {
   "display_name": "Python 3",
   "language": "python",
   "name": "python3"
  },
  "language_info": {
   "codemirror_mode": {
    "name": "ipython",
    "version": 3
   },
   "file_extension": ".py",
   "mimetype": "text/x-python",
   "name": "python",
   "nbconvert_exporter": "python",
   "pygments_lexer": "ipython3",
   "version": "3.7.4"
  },
  "toc": {
   "base_numbering": 1,
   "nav_menu": {
    "height": "164px",
    "width": "514px"
   },
   "number_sections": true,
   "sideBar": true,
   "skip_h1_title": false,
   "title_cell": "Table of Contents",
   "title_sidebar": "Contents",
   "toc_cell": false,
   "toc_position": {},
   "toc_section_display": true,
   "toc_window_display": false
  },
  "varInspector": {
   "cols": {
    "lenName": 16,
    "lenType": 16,
    "lenVar": 40
   },
   "kernels_config": {
    "python": {
     "delete_cmd_postfix": "",
     "delete_cmd_prefix": "del ",
     "library": "var_list.py",
     "varRefreshCmd": "print(var_dic_list())"
    },
    "r": {
     "delete_cmd_postfix": ") ",
     "delete_cmd_prefix": "rm(",
     "library": "var_list.r",
     "varRefreshCmd": "cat(var_dic_list()) "
    }
   },
   "types_to_exclude": [
    "module",
    "function",
    "builtin_function_or_method",
    "instance",
    "_Feature"
   ],
   "window_display": false
  }
 },
 "nbformat": 4,
 "nbformat_minor": 2
}
